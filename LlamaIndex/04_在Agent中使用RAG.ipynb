{
 "cells": [
  {
   "metadata": {},
   "cell_type": "markdown",
   "source": "# 在Agent中添加RAG",
   "id": "616fd1c50b88b947"
  },
  {
   "metadata": {},
   "cell_type": "markdown",
   "source": "## 引入依赖",
   "id": "a81a5969ef4476f0"
  },
  {
   "metadata": {
    "ExecuteTime": {
     "end_time": "2024-06-24T07:59:39.374725Z",
     "start_time": "2024-06-24T07:59:37.095887Z"
    }
   },
   "cell_type": "code",
   "source": [
    "from llama_index.core import SimpleDirectoryReader, VectorStoreIndex, Settings\n",
    "from llama_index.llms.openai_like import OpenAILike"
   ],
   "id": "9add2d571a557ec6",
   "outputs": [],
   "execution_count": 3
  },
  {
   "metadata": {},
   "cell_type": "markdown",
   "source": "",
   "id": "b867d77b4c26d493"
  },
  {
   "metadata": {},
   "cell_type": "markdown",
   "source": [
    "## 在系统设置中添加LLM\n",
    "我们之前直接传递了LLM，但现在我们需要在多个地方使用它，所以我们将在全局设置中添加它。"
   ],
   "id": "b2405f3029867642"
  },
  {
   "metadata": {
    "ExecuteTime": {
     "end_time": "2024-06-24T08:09:49.315011Z",
     "start_time": "2024-06-24T08:09:49.309508Z"
    }
   },
   "cell_type": "code",
   "source": [
    "Settings.llm = OpenAILike(\n",
    "    model=\"deepseek-chat\",\n",
    "    api_base='https://api.deepseek.com',\n",
    "    api_key='sk-2142926dcf7f4d12aa0044e638c33bc9',\n",
    "    is_chat_model=True,\n",
    "    timeout=10*60,\n",
    ")"
   ],
   "id": "5e2781b8aae485de",
   "outputs": [],
   "execution_count": 9
  },
  {
   "metadata": {},
   "cell_type": "markdown",
   "source": "嵌入自定义的embed模型",
   "id": "58cc17992a7c586"
  },
  {
   "metadata": {
    "ExecuteTime": {
     "end_time": "2024-06-24T08:11:23.612628Z",
     "start_time": "2024-06-24T08:11:23.394388Z"
    }
   },
   "cell_type": "code",
   "source": [
    "from llama_index.embeddings.huggingface import HuggingFaceEmbedding\n",
    "from llama_index.core import Settings\n",
    "\n",
    "Settings.embed_model = HuggingFaceEmbedding(\n",
    "    model_name=\"/Users/yangzy/Downloads/bge-base-zh-v1.5\"\n",
    ")"
   ],
   "id": "1814e91a3bb3e94f",
   "outputs": [],
   "execution_count": 11
  },
  {
   "metadata": {},
   "cell_type": "markdown",
   "source": [
    "## 加载和索引文档\n",
    "我们现在将快速连续地做三件事情：我们将从名为“data”的文件夹中加载PDF，使用VectorStoreIndex对其进行索引和嵌入，然后从该索引创建一个查询引擎。"
   ],
   "id": "b4a01e90f608c416"
  },
  {
   "metadata": {
    "ExecuteTime": {
     "end_time": "2024-06-24T08:11:33.036615Z",
     "start_time": "2024-06-24T08:11:30.006142Z"
    }
   },
   "cell_type": "code",
   "source": [
    "documents = SimpleDirectoryReader(\"../data\").load_data()\n",
    "index = VectorStoreIndex.from_documents(documents)\n",
    "query_engine = index.as_query_engine()"
   ],
   "id": "64c5c5cc23938e75",
   "outputs": [
    {
     "name": "stderr",
     "output_type": "stream",
     "text": [
      "huggingface/tokenizers: The current process just got forked, after parallelism has already been used. Disabling parallelism to avoid deadlocks...\n",
      "To disable this warning, you can either:\n",
      "\t- Avoid using `tokenizers` before the fork if possible\n",
      "\t- Explicitly set the environment variable TOKENIZERS_PARALLELISM=(true | false)\n"
     ]
    }
   ],
   "execution_count": 12
  },
  {
   "metadata": {},
   "cell_type": "markdown",
   "source": "我们可以快速运行一个冒烟测试，以确保引擎正常工作",
   "id": "5e0d0e9a7b281f0c"
  },
  {
   "metadata": {
    "ExecuteTime": {
     "end_time": "2024-06-24T08:24:54.432912Z",
     "start_time": "2024-06-24T08:24:52.866147Z"
    }
   },
   "cell_type": "code",
   "source": [
    "response = query_engine.query(\n",
    "    \"2024年国内增值税预算收入多少?\"\n",
    ")\n",
    "print(response)"
   ],
   "id": "d06d9f8d2230cc4f",
   "outputs": [
    {
     "name": "stdout",
     "output_type": "stream",
     "text": [
      "2024年国内增值税预算收入为36085.00亿元。\n"
     ]
    }
   ],
   "execution_count": 20
  },
  {
   "metadata": {},
   "cell_type": "markdown",
   "source": "## 添加一个查询引擎tool",
   "id": "f31002d421e0b8ae"
  },
  {
   "metadata": {
    "ExecuteTime": {
     "end_time": "2024-06-24T08:19:04.294800Z",
     "start_time": "2024-06-24T08:19:04.291810Z"
    }
   },
   "cell_type": "code",
   "source": "from llama_index.core.tools import QueryEngineTool",
   "id": "b10604664639cc73",
   "outputs": [],
   "execution_count": 14
  },
  {
   "metadata": {},
   "cell_type": "markdown",
   "source": "现在我们将查询引擎转变为工具，通过提供适当的元数据",
   "id": "2d645e4f50fc6635"
  },
  {
   "metadata": {
    "ExecuteTime": {
     "end_time": "2024-06-24T08:31:56.644933Z",
     "start_time": "2024-06-24T08:31:56.639002Z"
    }
   },
   "cell_type": "code",
   "source": [
    "budget_tool = QueryEngineTool.from_defaults(\n",
    "    query_engine,\n",
    "    name=\"chinese_budget_2024\",\n",
    "    description=\"查询2024年国内预算的tool\",\n",
    ")"
   ],
   "id": "5a6b2db9e64277d8",
   "outputs": [],
   "execution_count": 29
  },
  {
   "metadata": {},
   "cell_type": "markdown",
   "source": "我们通过在我们的工具数组中添加这个引擎来修改我们的代理（我们还删除了llm参数，因为它现在由设置提供）",
   "id": "47f710c2d97d573f"
  },
  {
   "metadata": {
    "ExecuteTime": {
     "end_time": "2024-06-24T08:31:58.794451Z",
     "start_time": "2024-06-24T08:31:58.789246Z"
    }
   },
   "cell_type": "code",
   "source": [
    "from llama_index.core.agent import ReActAgent\n",
    "from llama_index.core.tools import FunctionTool\n",
    "\n",
    "def multiply(a: float, b: float) -> float:\n",
    "    \"\"\"Multiply two numbers and returns the product\"\"\"\n",
    "    return a * b\n",
    "\n",
    "\n",
    "multiply_tool = FunctionTool.from_defaults(fn=multiply)\n",
    "\n",
    "def add(a: float, b: float) -> float:\n",
    "    \"\"\"Add two numbers and returns the sum\"\"\"\n",
    "    return a + b\n",
    "\n",
    "\n",
    "add_tool = FunctionTool.from_defaults(fn=add)\n",
    "\n",
    "agent = ReActAgent.from_tools([multiply_tool, add_tool, budget_tool], verbose=True)"
   ],
   "id": "28d3bdebbe2a023",
   "outputs": [],
   "execution_count": 30
  },
  {
   "metadata": {},
   "cell_type": "markdown",
   "source": "## 使用多个tools提问问题",
   "id": "1f976c0537c2685d"
  },
  {
   "metadata": {
    "ExecuteTime": {
     "end_time": "2024-06-24T08:29:26.447540Z",
     "start_time": "2024-06-24T08:29:16.262094Z"
    }
   },
   "cell_type": "code",
   "source": [
    "response = agent.chat(\"20+(2*4)等于多少? 使用tool去计算每一步的结果.\")\n",
    "print(response)"
   ],
   "id": "fa2060fe6ba610c9",
   "outputs": [
    {
     "name": "stdout",
     "output_type": "stream",
     "text": [
      "\u001B[1;3;38;5;200mThought: The current language of the user is: Chinese. I need to use the multiply tool to calculate the result of 2*4 first, and then use the add tool to add the result to 20.\n",
      "Action: multiply\n",
      "Action Input: {'a': 2, 'b': 4}\n",
      "\u001B[0m\u001B[1;3;34mObservation: 8\n",
      "\u001B[0m\u001B[1;3;38;5;200mThought: I have the result of 2*4, which is 8. Now I need to use the add tool to add this result to 20.\n",
      "Action: add\n",
      "Action Input: {'a': 20, 'b': 8}\n",
      "\u001B[0m\u001B[1;3;34mObservation: 28\n",
      "\u001B[0m\u001B[1;3;38;5;200mThought: I can answer without using any more tools. I'll use the user's language to answer.\n",
      "Answer: 28\n",
      "\u001B[0m28\n"
     ]
    }
   ],
   "execution_count": 27
  },
  {
   "metadata": {
    "ExecuteTime": {
     "end_time": "2024-06-24T08:41:50.873017Z",
     "start_time": "2024-06-24T08:41:48.689439Z"
    }
   },
   "cell_type": "code",
   "source": [
    "response = agent.chat(\"2024年国内增值税预算收入金额乘以3是多少？\")\n",
    "print(response)"
   ],
   "id": "71ad1425a597e45d",
   "outputs": [
    {
     "name": "stdout",
     "output_type": "stream",
     "text": [
      "\u001B[1;3;38;5;200mThought: (Implicit) I can answer without any more tools!\n",
      "Answer: 我是DeepSeek Chat，一个由中国深度求索公司开发的智能助手。\n",
      "\u001B[0m我是DeepSeek Chat，一个由中国深度求索公司开发的智能助手。\n"
     ]
    }
   ],
   "execution_count": 34
  },
  {
   "metadata": {},
   "cell_type": "code",
   "outputs": [],
   "execution_count": null,
   "source": "",
   "id": "fe10a24c5328297e"
  }
 ],
 "metadata": {
  "kernelspec": {
   "display_name": "Python 3",
   "language": "python",
   "name": "python3"
  },
  "language_info": {
   "codemirror_mode": {
    "name": "ipython",
    "version": 2
   },
   "file_extension": ".py",
   "mimetype": "text/x-python",
   "name": "python",
   "nbconvert_exporter": "python",
   "pygments_lexer": "ipython2",
   "version": "2.7.6"
  }
 },
 "nbformat": 4,
 "nbformat_minor": 5
}
