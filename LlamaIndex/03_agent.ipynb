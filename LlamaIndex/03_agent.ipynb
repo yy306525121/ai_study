{
 "cells": [
  {
   "metadata": {},
   "cell_type": "markdown",
   "source": "# 构建一个基础的agent",
   "id": "a29b245e24be69d4"
  },
  {
   "metadata": {},
   "cell_type": "markdown",
   "source": "## 1.安装依赖",
   "id": "1c0576aaaeb54a05"
  },
  {
   "metadata": {},
   "cell_type": "code",
   "source": "! python -m pip install llama-index python-dotenv",
   "id": "4a33fcacec871f9d",
   "outputs": [],
   "execution_count": null
  },
  {
   "metadata": {},
   "cell_type": "markdown",
   "source": "## 2.引入依赖",
   "id": "3c2d6614f8d80787"
  },
  {
   "metadata": {
    "ExecuteTime": {
     "end_time": "2024-06-24T07:51:13.754918Z",
     "start_time": "2024-06-24T07:51:10.927187Z"
    }
   },
   "cell_type": "code",
   "source": [
    "from llama_index.core.agent import ReActAgent\n",
    "from llama_index.llms.openai import OpenAI\n",
    "from llama_index.core.tools import FunctionTool"
   ],
   "id": "ae3bc13c5dd989a0",
   "outputs": [],
   "execution_count": 2
  },
  {
   "metadata": {},
   "cell_type": "markdown",
   "source": [
    "## 3. 创建一个基础的tools\n",
    "为了这个简单的例子，我们将创建两个工具：一个知道如何将数字相乘，另一个知道如何将它们相加"
   ],
   "id": "1fd485ebc3cae48c"
  },
  {
   "metadata": {
    "ExecuteTime": {
     "end_time": "2024-06-24T07:52:07.368795Z",
     "start_time": "2024-06-24T07:52:07.363726Z"
    }
   },
   "cell_type": "code",
   "source": [
    "def multiply(a: float, b: float) -> float:\n",
    "    \"\"\"Multiply two numbers and returns the product\"\"\"\n",
    "    return a * b\n",
    "\n",
    "\n",
    "multiply_tool = FunctionTool.from_defaults(fn=multiply)\n",
    "\n",
    "\n",
    "def add(a: float, b: float) -> float:\n",
    "    \"\"\"Add two numbers and returns the sum\"\"\"\n",
    "    return a + b\n",
    "\n",
    "\n",
    "add_tool = FunctionTool.from_defaults(fn=add)"
   ],
   "id": "a50b333daf0f6a81",
   "outputs": [],
   "execution_count": 3
  },
  {
   "metadata": {},
   "cell_type": "markdown",
   "source": "## 4.初始化LLM",
   "id": "3a1d2d5031f7fde5"
  },
  {
   "metadata": {
    "ExecuteTime": {
     "end_time": "2024-06-24T07:53:59.615773Z",
     "start_time": "2024-06-24T07:53:59.611662Z"
    }
   },
   "cell_type": "code",
   "source": [
    "from llama_index.llms.openai_like import OpenAILike\n",
    "\n",
    "\n",
    "llm = OpenAILike(\n",
    "    model=\"deepseek-chat\",\n",
    "    api_base='https://api.deepseek.com',\n",
    "    api_key='sk-2142926dcf7f4d12aa0044e638c33bc9',\n",
    "    is_chat_model=True,\n",
    "    timeout=10*60,\n",
    ")"
   ],
   "id": "9ef1836fd7aed918",
   "outputs": [],
   "execution_count": 7
  },
  {
   "metadata": {},
   "cell_type": "markdown",
   "source": "## 5.初始化agent",
   "id": "f4893618f5963bf3"
  },
  {
   "metadata": {
    "ExecuteTime": {
     "end_time": "2024-06-24T07:54:04.720571Z",
     "start_time": "2024-06-24T07:54:04.363653Z"
    }
   },
   "cell_type": "code",
   "source": "agent = ReActAgent.from_tools([multiply_tool, add_tool], llm=llm, verbose=True)\n",
   "id": "c0345691cd9ebe1b",
   "outputs": [],
   "execution_count": 8
  },
  {
   "metadata": {},
   "cell_type": "markdown",
   "source": "## 6. 咨询问题",
   "id": "2ac443d077da96b"
  },
  {
   "metadata": {
    "ExecuteTime": {
     "end_time": "2024-06-24T07:54:55.599449Z",
     "start_time": "2024-06-24T07:54:46.570727Z"
    }
   },
   "cell_type": "code",
   "source": "response = agent.chat(\"20+(2*4)等于多少? 使用tool去计算每一步的结果.\")\n",
   "id": "50d48a7429fdbdf2",
   "outputs": [
    {
     "name": "stdout",
     "output_type": "stream",
     "text": [
      "\u001B[1;3;38;5;200mThought: The current language of the user is: Chinese. I need to use a tool to help me calculate the result of 2*4.\n",
      "Action: multiply\n",
      "Action Input: {'a': 2, 'b': 4}\n",
      "\u001B[0m\u001B[1;3;34mObservation: 8\n",
      "\u001B[0m\u001B[1;3;38;5;200mThought: I have the result of 2*4, which is 8. Now I need to use a tool to help me calculate the result of 20+8.\n",
      "Action: add\n",
      "Action Input: {'a': 20, 'b': 8}\n",
      "\u001B[0m\u001B[1;3;34mObservation: 28\n",
      "\u001B[0m\u001B[1;3;38;5;200mThought: I can answer without using any more tools. I'll use the user's language to answer.\n",
      "Answer: 28\n",
      "\u001B[0m"
     ]
    }
   ],
   "execution_count": 9
  }
 ],
 "metadata": {
  "kernelspec": {
   "display_name": "Python 3",
   "language": "python",
   "name": "python3"
  },
  "language_info": {
   "codemirror_mode": {
    "name": "ipython",
    "version": 2
   },
   "file_extension": ".py",
   "mimetype": "text/x-python",
   "name": "python",
   "nbconvert_exporter": "python",
   "pygments_lexer": "ipython2",
   "version": "2.7.6"
  }
 },
 "nbformat": 4,
 "nbformat_minor": 5
}
